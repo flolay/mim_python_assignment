{
 "cells": [
  {
   "cell_type": "markdown",
   "metadata": {},
   "source": [
    "# MiM Python Group Assignment\n",
    "\n",
    "## Text Game"
   ]
  },
  {
   "cell_type": "code",
   "execution_count": 12,
   "metadata": {},
   "outputs": [],
   "source": [
    "def look_rooms(room_choice_look):\n",
    "    print()\n",
    "\n",
    "    if room_choice_look == \"treasury\":  # Treasury\n",
    "        print(\"\\nYou are now looking in the secret Treasury Room. One of these objects will allow you to be the wealthiest pirate of the sea.\")\n",
    "        #TODO: display image of the room\n",
    "        return\n",
    "    elif room_choice_look == \"captain\":  # Captain\n",
    "        print(\"\\nYou are now looking at a beautiful Captain Cabin. One of these objects would allow you to be the most respected captain of the sea.\")\n",
    "        #TODO: display image of the room\n",
    "        return\n",
    "    elif room_choice_look == \"sea\":  # Sea\n",
    "        print(\"\\nYou are now facing the sea, the sky is blue, the weather is nice and you are hungry. You will need to start fishing soon.\")\n",
    "        #TODO: display image of the room\n",
    "        return\n",
    "    elif room_choice_look == \"armory\":  # Armory\n",
    "        print(\"\\nYou are now looking at a fully equipped armory room. One of these objects would allow you to be the strongest pirate of the sea.\")\n",
    "        #TODO: display image of the room\n",
    "        return\n",
    "    else:\n",
    "        print(\"\\nYou should try to start from the beginning!\")\n",
    "        return"
   ]
  },
  {
   "cell_type": "code",
   "execution_count": 40,
   "metadata": {},
   "outputs": [],
   "source": [
    "def go_rooms(room_choice_go, inventory):\n",
    "    room_object = \"\"\n",
    "    \n",
    "    if room_choice_go == \"treasury\":  # Treasury\n",
    "        print(\"\\nYou are now in the Treasury Room. Which of these valuable objects do you desire the most? These objects are displayed in front of you, you can choose only one: \")\n",
    "        print(\"1. A Parrot\")\n",
    "        print(\"2. Gold Coins\")\n",
    "        print(\"3. A Treasury Map\")\n",
    "        print(\"4. A barrel Rum\")\n",
    "\n",
    "        room_object = input(\"Please enter the object you want to place in the inventory (no caps): \").lower().strip()\n",
    "        if room_object == \"a parrot\":\n",
    "            print(f\"You have placed {room_object} in your inventory.\")\n",
    "            inventory.append(\"a parrot\")\n",
    "        elif room_object == \"gold coins\":\n",
    "            print(f\"You have placed {room_object} in your inventory.\")\n",
    "            inventory.append(\"gold coins\")\n",
    "        elif room_object == \"a treasury map\":\n",
    "            print(f\"You have placed {room_object} in your inventory.\")\n",
    "            inventory.append(\"a treasury map\")\n",
    "        elif room_object == \"a barrel rum\":\n",
    "            print(f\"You have placed {room_object} in your inventory.\")\n",
    "            inventory.append(\"a barrel rum\")\n",
    "        else:\n",
    "            print(\"Please type in the name of the object again.\")\n",
    "\n",
    "    elif room_choice_go == \"captain\":  # Captain\n",
    "        print(\"\\nYou are now in the Captain’s Cabin. Which object would allow you to be the most respected Captain? These objects are displayed in front of you, you can choose only one: \")\n",
    "        print(\"1. A Candle\")\n",
    "        print(\"2. A Feather-pen\")\n",
    "        print(\"3. An Eye-Patch\")\n",
    "        print(\"4. A Princess \")\n",
    "\n",
    "        room_object = input(\"Please enter the object you want to place in the inventory (no caps): \").lower().strip()\n",
    "        if room_object == \"a candle\":\n",
    "            print(f\"You have placed {room_object} in your inventory.\")\n",
    "            inventory.append(\"a candle\")\n",
    "        elif room_object == \"a feather-pen\":\n",
    "            print(f\"You have placed {room_object} in your inventory.\")\n",
    "            inventory.append(\"a feather-pen\")\n",
    "        elif room_object == \"an eye-patch\":\n",
    "            print(f\"You have placed {room_object} in your inventory.\")\n",
    "            inventory.append(\"an eye-patch\")\n",
    "        elif room_object == \"a princess\":\n",
    "            print(f\"You have placed {room_object} in your inventory.\")\n",
    "            inventory.append(\"a princess\")\n",
    "        else:\n",
    "            print(\"Please type in the name of the object again.\")\n",
    "\n",
    "    elif room_choice_go == \"sea\":  # Sea\n",
    "        print(\"\\nYou are now in the Sea Room. You are hungry and you need to fish to survive. These objects are displayed in front of you, you can choose only one:\")\n",
    "        print(\"1. A fishing line\")\n",
    "        print(\"2. A net\")\n",
    "        print(\"3. A spear\")\n",
    "        print(\"4. A fish disguise\")\n",
    "\n",
    "        room_object = input(\"Please enter the object you want to place in the inventory (no caps): \").lower().strip()\n",
    "        if room_object == \"a fishing line\":\n",
    "            print(f\"You have placed {room_object} in your inventory.\")\n",
    "            inventory.append(\"a fishing line\")\n",
    "        elif room_object == \"a net\":\n",
    "            print(f\"You have placed {room_object} in your inventory.\")\n",
    "            inventory.append(\"a net\")\n",
    "        elif room_object == \"a spear\":\n",
    "            print(f\"You have placed {room_object} in your inventory.\")\n",
    "            inventory.append(\"a spear\")\n",
    "        elif room_object == \"a fish disguise\":\n",
    "            print(f\"You have placed {room_object} in your inventory.\")\n",
    "            inventory.append(\"a fish disguise\")\n",
    "        else:\n",
    "            print(\"Please type in the name of the object again.\")\n",
    "\n",
    "    elif room_choice_go == \"armory\":  # Armory\n",
    "        print(\"\\nYou are now in the Armory Room. Which object would be more valuable in a fight? These objects are displayed in front of you, you can choose only one:\")\n",
    "        print(\"1. A Sabre\")\n",
    "        print(\"2. A Gun\")\n",
    "        print(\"3. A Cannon\")\n",
    "        print(\"4. A Wand\")\n",
    "\n",
    "        room_object = input(\"Please enter the object you want to place in the inventory (no caps): \").lower().strip()\n",
    "        if room_object == \"a sabre\":\n",
    "            print(f\"You have placed {room_object} in your inventory.\")\n",
    "            inventory.append(\"a sabre\")\n",
    "        elif room_object == \"a gun\":\n",
    "            print(f\"You have placed {room_object} in your inventory.\")\n",
    "            inventory.append(\"a gun\")\n",
    "        elif room_object == \"a cannon\":\n",
    "            print(f\"You have placed {room_object} in your inventory.\")\n",
    "            inventory.append(\"a cannon\")\n",
    "        elif room_object == \"a wand\":\n",
    "            print(f\"You have placed\", room_object, \"in your inventory.\")\n",
    "            inventory.append(\"a wand\")\n",
    "        else:\n",
    "            print(\"Please type in the name of the object again.\")\n",
    "    else:\n",
    "        print(\"There is something wrong here\")\n",
    "    return inventory"
   ]
  },
  {
   "cell_type": "code",
   "execution_count": 45,
   "metadata": {},
   "outputs": [],
   "source": [
    "def object_score(inventory):\n",
    "    score = 0\n",
    "    for object_inventory in inventory:\n",
    "        if object_inventory == \"a parrot\":  # treasury\n",
    "            score = score + 1\n",
    "        if object_inventory == \"gold coins\":\n",
    "            score = score + 2\n",
    "        if object_inventory == \"a treasury map\":\n",
    "            score = score + 3\n",
    "        if object_inventory == \"a barrel rum\":\n",
    "            score = score + 0\n",
    "        if object_inventory == \"a candle\":  # captain\n",
    "            score = score + 1\n",
    "        if object_inventory == \"a feather-pen\":\n",
    "            score = score + 2\n",
    "        if object_inventory == \"an eye-patch\":\n",
    "            score = score + 3\n",
    "        if object_inventory == \"a princess\":\n",
    "            score = score + 0\n",
    "        if object_inventory == \"a fishing line\":  # sea\n",
    "            score = score + 1\n",
    "        if object_inventory == \"a net\":\n",
    "            score = score + 2\n",
    "        if object_inventory == \"a spear\":\n",
    "            score = score + 3\n",
    "        if object_inventory == \"a fish disguise\":\n",
    "            score = score + 0\n",
    "        if object_inventory == \"a sabre\":  # armory\n",
    "            score = score + 1\n",
    "        if object_inventory == \"a gun\":\n",
    "            score = score + 2\n",
    "        if object_inventory == \"a cannon\":\n",
    "            score = score + 3\n",
    "        if object_inventory == \"a wand\":\n",
    "            score = score + 0\n",
    "    print(f\"Your total score based on the objects in your inventory is: {score} !!!\")"
   ]
  },
  {
   "cell_type": "code",
   "execution_count": 49,
   "metadata": {},
   "outputs": [
    {
     "name": "stdout",
     "output_type": "stream",
     "text": [
      "\n",
      "Welcome, your name is Jack Sparrow and you just found the BluePearl pirate ship.\n",
      "Your mission is to explore the ship and retrieve the most valuable objects in each room to be the most respected pirate of the Sea. \n"
     ]
    },
    {
     "name": "stdin",
     "output_type": "stream",
     "text": [
      "Do you want to 'Look' or 'Go'  to the next room? go\n",
      "Which room do you want to go to (type in the name in small caps): 'Treasury','Captain','Sea','Armory'? treasury\n"
     ]
    },
    {
     "name": "stdout",
     "output_type": "stream",
     "text": [
      "\n",
      "You are now in the Treasury Room. Which of these valuable objects do you desire the most? These objects are displayed in front of you, you can choose only one: \n",
      "1. A Parrot\n",
      "2. Gold Coins\n",
      "3. A Treasury Map\n",
      "4. A barrel Rum\n"
     ]
    },
    {
     "name": "stdin",
     "output_type": "stream",
     "text": [
      "Please enter the object you want to place in the inventory (no caps):  a parrot\n"
     ]
    },
    {
     "name": "stdout",
     "output_type": "stream",
     "text": [
      "You have placed a parrot in your inventory.\n",
      "Your total score based on the objects in your inventory is: 1 !!!\n"
     ]
    }
   ],
   "source": [
    "def main():\n",
    "    inventory = []\n",
    "    print(\"\\nWelcome, your name is Jack Sparrow and you just found the BluePearl pirate ship.\")\n",
    "    print(\"Your mission is to explore the ship and retrieve the most valuable objects in each room to be the most respected pirate of the Sea. \")\n",
    "\n",
    "    user_command = input(\"Do you want to 'Look' or 'Go'  to the next room?\").lower().strip()\n",
    "\n",
    "    inventory = []\n",
    "    \n",
    "    # TODO: while loop for enter to exit\n",
    "    if user_command == \"look\":\n",
    "        room_choice_look = input(\"Which room do you want to go to (type in the name in small caps): 'Treasury','Captain','Sea','Armory'?\").lower().strip()\n",
    "        look_rooms(room_choice_look)\n",
    "\n",
    "    elif user_command == \"go\":\n",
    "        room_choice_go = input(\"Which room do you want to go to (type in the name in small caps): 'Treasury','Captain','Sea','Armory'?\").lower().strip()\n",
    "        inventory = go_rooms(room_choice_go, inventory)\n",
    "    else:\n",
    "        print(\"We might need a more intelligent user for this game. \")\n",
    "\n",
    "    object_score(inventory)\n",
    "\n",
    "\n",
    "main()"
   ]
  },
  {
   "cell_type": "code",
   "execution_count": null,
   "metadata": {},
   "outputs": [],
   "source": []
  },
  {
   "cell_type": "code",
   "execution_count": null,
   "metadata": {},
   "outputs": [],
   "source": []
  },
  {
   "cell_type": "code",
   "execution_count": null,
   "metadata": {},
   "outputs": [],
   "source": []
  },
  {
   "cell_type": "code",
   "execution_count": 40,
   "metadata": {},
   "outputs": [],
   "source": [
    "def go_east(position):\n",
    "    position[1] += 1\n",
    "    return position\n",
    "\n",
    "def go_west(position):\n",
    "    position[1] -= 1\n",
    "    return position\n",
    "\n",
    "def go_north(position):\n",
    "    position[0] += 1\n",
    "    return position\n",
    "\n",
    "def go_south(position):\n",
    "    position[0] -= 1\n",
    "    return position\n",
    "\n",
    "def do_action(action_name, position):\n",
    "    if action_name == \"go north\":\n",
    "        position = go_north(position)\n",
    "    elif action_name == \"go south\":\n",
    "        position = go_south(position)\n",
    "    elif action_name == \"go west\":\n",
    "        position = go_west(position)\n",
    "    elif action_name == \"go east\":\n",
    "        position = go_east(position)\n",
    "    # Sea room\n",
    "    elif action_name == \"go into the sea room\":\n",
    "        print(\"You enter the sea room\")\n",
    "        #TODO call sea room function\n",
    "    elif action_name == \"look into the sea room\":\n",
    "        print(\"You look into the sea room\")\n",
    "        #TODO call look sea room function\n",
    "    # Armory room\n",
    "    elif action_name == \"go into the armory room\":\n",
    "        print(\"You enter the armory room\")\n",
    "        #TODO call armory room function\n",
    "    elif action_name == \"look into the armory room\":\n",
    "        print(\"You look into the armory room\")\n",
    "        #TODO call look armory room function\n",
    "    # Captains room\n",
    "    elif action_name == \"go into the captains room\":\n",
    "        print(\"You enter the captains room\")\n",
    "        #TODO call captains room function\n",
    "    elif action_name == \"look into the captains room\":\n",
    "        print(\"You look into the captains room\")\n",
    "        #TODO call captains room function\n",
    "    # Treasury room\n",
    "    elif action_name == \"go into the treasury room\":\n",
    "        print(\"You enter the treasury room\")\n",
    "        #TODO call treasury room function\n",
    "    elif action_name == \"look into the treasury room\":\n",
    "        print(\"You look into the treasury room\")\n",
    "        #TODO call treasury room function\n",
    "    elif action_name == \"leave the ship\":\n",
    "        print(\"You are done with exploring the ship.\")\n",
    "        #TODO calculate score\n",
    "    else:\n",
    "        print(\"Your entry was incorrect, please choose an action again\")\n",
    "    return position\n",
    "\n",
    "def possible_actions(position, sea_closed, captains_closed, armory_closed):\n",
    "    if position == [0,0]:\n",
    "        print(\"\"\"Possible Actions: \n",
    "                Go east\\n\n",
    "                Leave the ship\"\"\")\n",
    "    elif position == [0,1]:\n",
    "        print(\"\"\"Possible Actions: \\n\n",
    "              Go north\\n\n",
    "              Go west\\n\n",
    "              Go south\"\"\")\n",
    "    elif position == [1,1]:\n",
    "        print(\"\"\"Possible Actions: \\n\n",
    "              Go east\\n\n",
    "              Go south\"\"\")\n",
    "    # Sea room\n",
    "    elif position == [1,2] and sea_closed == False:\n",
    "        print(\"\"\"Possible Actions: \\n\n",
    "              Look into the sea room\\n\n",
    "              Go into the sea room\\n\n",
    "              Go east\\n\n",
    "              Go west\"\"\")\n",
    "    elif position == [1,2] and sea_closed == True:\n",
    "        print(\"\"\"Possible Actions: \\n\n",
    "              Go east\\n\n",
    "              Go west\"\"\")\n",
    "    elif position == [1,3]:\n",
    "        print(\"\"\"Possible Actions: \\n\n",
    "              Go east\\n\n",
    "              Go west\\n\n",
    "              Go south\"\"\")\n",
    "    elif position == [1,4]:\n",
    "        print(\"\"\"Possible Actions: \\n\n",
    "              Go west\"\"\")\n",
    "    elif position == [0,3] and armory_closed == False:\n",
    "        print(\"\"\"Possible Actions: \\n\n",
    "              Look into the armory room\\n\n",
    "              Go into the armory room\\n\n",
    "              Go north\"\"\")\n",
    "    elif position == [0,3] and armory_closed == True:\n",
    "        print(\"\"\"Possible Actions: \\n\n",
    "              Go north\"\"\")\n",
    "    elif position == [-1,1]:\n",
    "        print(\"\"\"Possible Actions: \\n\n",
    "              Go east\\n\n",
    "              Go north\"\"\")\n",
    "    elif position == [-1,2]:\n",
    "        print(\"\"\"Possible Actions: \\n\n",
    "              Go south\\n\n",
    "              Go west\"\"\")\n",
    "    elif position == [-2,2] and captains_closed == False:\n",
    "        print(\"\"\"Possible Actions: \\n\n",
    "              Look into the captains room\\n\n",
    "              Go into the captains room\\n\n",
    "              Go north\\n\n",
    "              Go east\"\"\")\n",
    "    elif position == [-2,2] and captains_closed == True:\n",
    "        print(\"\"\"Possible Actions: \\n\n",
    "              Go north\\n\n",
    "              Go east\"\"\")\n",
    "    elif position == [-2,3]:\n",
    "        print(\"\"\"Possible Actions: \\n\n",
    "              Go west\\n\n",
    "              Go east\"\"\")\n",
    "    elif position == [-2,4]:\n",
    "        print(\"\"\"Possible Actions: \\n\n",
    "              Look into the treasury room\\n\n",
    "              Go into the treasury room\\n\n",
    "              Go west\\n\"\"\")\n",
    "    action_name = input(\"What do you want to do?\").lower().strip()\n",
    "    print(f\"Action chosen: {action_name}\")\n",
    "    position = do_action(action_name, position)\n",
    "    print(f\"New position: {position}\\n\")\n",
    "    return position"
   ]
  },
  {
   "cell_type": "code",
   "execution_count": null,
   "metadata": {},
   "outputs": [],
   "source": []
  },
  {
   "cell_type": "code",
   "execution_count": 41,
   "metadata": {},
   "outputs": [],
   "source": [
    "def main():\n",
    "    position = [0,0]\n",
    "    while True:\n",
    "        position = possible_actions(position, False, False, False)\n",
    "        print(\"======================\\n\")"
   ]
  },
  {
   "cell_type": "code",
   "execution_count": 42,
   "metadata": {},
   "outputs": [
    {
     "name": "stdout",
     "output_type": "stream",
     "text": [
      "Possible Actions: \n",
      "                Go east\n",
      "\n",
      "                Leave the ship\n"
     ]
    },
    {
     "name": "stdin",
     "output_type": "stream",
     "text": [
      "What do you want to do? go east\n"
     ]
    },
    {
     "name": "stdout",
     "output_type": "stream",
     "text": [
      "Action chosen: go east\n",
      "New position: [0, 1]\n",
      "\n",
      "======================\n",
      "\n",
      "Possible Actions: \n",
      "\n",
      "              Go north\n",
      "\n",
      "              Go west\n",
      "\n",
      "              Go south\n"
     ]
    },
    {
     "name": "stdin",
     "output_type": "stream",
     "text": [
      "What do you want to do? go south\n"
     ]
    },
    {
     "name": "stdout",
     "output_type": "stream",
     "text": [
      "Action chosen: go south\n",
      "New position: [-1, 1]\n",
      "\n",
      "======================\n",
      "\n",
      "Possible Actions: \n",
      "\n",
      "              Go east\n",
      "\n",
      "              Go north\n"
     ]
    },
    {
     "name": "stdin",
     "output_type": "stream",
     "text": [
      "What do you want to do? go east\n"
     ]
    },
    {
     "name": "stdout",
     "output_type": "stream",
     "text": [
      "Action chosen: go east\n",
      "New position: [-1, 2]\n",
      "\n",
      "======================\n",
      "\n",
      "Possible Actions: \n",
      "\n",
      "              Go south\n",
      "\n",
      "              Go west\n"
     ]
    },
    {
     "name": "stdin",
     "output_type": "stream",
     "text": [
      "What do you want to do? go south\n"
     ]
    },
    {
     "name": "stdout",
     "output_type": "stream",
     "text": [
      "Action chosen: go south\n",
      "New position: [-2, 2]\n",
      "\n",
      "======================\n",
      "\n",
      "Possible Actions: \n",
      "\n",
      "              Look into the captains room\n",
      "\n",
      "              Go into the captains room\n",
      "\n",
      "              Go north\n",
      "\n",
      "              Go east\n"
     ]
    },
    {
     "name": "stdin",
     "output_type": "stream",
     "text": [
      "What do you want to do? go east\n"
     ]
    },
    {
     "name": "stdout",
     "output_type": "stream",
     "text": [
      "Action chosen: go east\n",
      "New position: [-2, 3]\n",
      "\n",
      "======================\n",
      "\n",
      "Possible Actions: \n",
      "\n",
      "              Go west\n",
      "\n",
      "              Go east\n"
     ]
    },
    {
     "name": "stdin",
     "output_type": "stream",
     "text": [
      "What do you want to do? go east\n"
     ]
    },
    {
     "name": "stdout",
     "output_type": "stream",
     "text": [
      "Action chosen: go east\n",
      "New position: [-2, 4]\n",
      "\n",
      "======================\n",
      "\n",
      "Possible Actions: \n",
      "\n",
      "              Look into the treasury room\n",
      "\n",
      "              Go into the treasury room\n",
      "\n",
      "              Go west\n",
      "\n"
     ]
    },
    {
     "ename": "KeyboardInterrupt",
     "evalue": "",
     "output_type": "error",
     "traceback": [
      "\u001b[0;31m---------------------------------------------------------------------------\u001b[0m",
      "\u001b[0;31mKeyboardInterrupt\u001b[0m                         Traceback (most recent call last)",
      "\u001b[0;32m~/anaconda3/envs/p37/lib/python3.7/site-packages/ipykernel/kernelbase.py\u001b[0m in \u001b[0;36m_input_request\u001b[0;34m(self, prompt, ident, parent, password)\u001b[0m\n\u001b[1;32m    883\u001b[0m             \u001b[0;32mtry\u001b[0m\u001b[0;34m:\u001b[0m\u001b[0;34m\u001b[0m\u001b[0;34m\u001b[0m\u001b[0m\n\u001b[0;32m--> 884\u001b[0;31m                 \u001b[0mident\u001b[0m\u001b[0;34m,\u001b[0m \u001b[0mreply\u001b[0m \u001b[0;34m=\u001b[0m \u001b[0mself\u001b[0m\u001b[0;34m.\u001b[0m\u001b[0msession\u001b[0m\u001b[0;34m.\u001b[0m\u001b[0mrecv\u001b[0m\u001b[0;34m(\u001b[0m\u001b[0mself\u001b[0m\u001b[0;34m.\u001b[0m\u001b[0mstdin_socket\u001b[0m\u001b[0;34m,\u001b[0m \u001b[0;36m0\u001b[0m\u001b[0;34m)\u001b[0m\u001b[0;34m\u001b[0m\u001b[0;34m\u001b[0m\u001b[0m\n\u001b[0m\u001b[1;32m    885\u001b[0m             \u001b[0;32mexcept\u001b[0m \u001b[0mException\u001b[0m\u001b[0;34m:\u001b[0m\u001b[0;34m\u001b[0m\u001b[0;34m\u001b[0m\u001b[0m\n",
      "\u001b[0;32m~/anaconda3/envs/p37/lib/python3.7/site-packages/jupyter_client/session.py\u001b[0m in \u001b[0;36mrecv\u001b[0;34m(self, socket, mode, content, copy)\u001b[0m\n\u001b[1;32m    812\u001b[0m         \u001b[0;32mtry\u001b[0m\u001b[0;34m:\u001b[0m\u001b[0;34m\u001b[0m\u001b[0;34m\u001b[0m\u001b[0m\n\u001b[0;32m--> 813\u001b[0;31m             \u001b[0mmsg_list\u001b[0m \u001b[0;34m=\u001b[0m \u001b[0msocket\u001b[0m\u001b[0;34m.\u001b[0m\u001b[0mrecv_multipart\u001b[0m\u001b[0;34m(\u001b[0m\u001b[0mmode\u001b[0m\u001b[0;34m,\u001b[0m \u001b[0mcopy\u001b[0m\u001b[0;34m=\u001b[0m\u001b[0mcopy\u001b[0m\u001b[0;34m)\u001b[0m\u001b[0;34m\u001b[0m\u001b[0;34m\u001b[0m\u001b[0m\n\u001b[0m\u001b[1;32m    814\u001b[0m         \u001b[0;32mexcept\u001b[0m \u001b[0mzmq\u001b[0m\u001b[0;34m.\u001b[0m\u001b[0mZMQError\u001b[0m \u001b[0;32mas\u001b[0m \u001b[0me\u001b[0m\u001b[0;34m:\u001b[0m\u001b[0;34m\u001b[0m\u001b[0;34m\u001b[0m\u001b[0m\n",
      "\u001b[0;32m~/anaconda3/envs/p37/lib/python3.7/site-packages/zmq/sugar/socket.py\u001b[0m in \u001b[0;36mrecv_multipart\u001b[0;34m(self, flags, copy, track)\u001b[0m\n\u001b[1;32m    474\u001b[0m         \"\"\"\n\u001b[0;32m--> 475\u001b[0;31m         \u001b[0mparts\u001b[0m \u001b[0;34m=\u001b[0m \u001b[0;34m[\u001b[0m\u001b[0mself\u001b[0m\u001b[0;34m.\u001b[0m\u001b[0mrecv\u001b[0m\u001b[0;34m(\u001b[0m\u001b[0mflags\u001b[0m\u001b[0;34m,\u001b[0m \u001b[0mcopy\u001b[0m\u001b[0;34m=\u001b[0m\u001b[0mcopy\u001b[0m\u001b[0;34m,\u001b[0m \u001b[0mtrack\u001b[0m\u001b[0;34m=\u001b[0m\u001b[0mtrack\u001b[0m\u001b[0;34m)\u001b[0m\u001b[0;34m]\u001b[0m\u001b[0;34m\u001b[0m\u001b[0;34m\u001b[0m\u001b[0m\n\u001b[0m\u001b[1;32m    476\u001b[0m         \u001b[0;31m# have first part already, only loop while more to receive\u001b[0m\u001b[0;34m\u001b[0m\u001b[0;34m\u001b[0m\u001b[0;34m\u001b[0m\u001b[0m\n",
      "\u001b[0;32mzmq/backend/cython/socket.pyx\u001b[0m in \u001b[0;36mzmq.backend.cython.socket.Socket.recv\u001b[0;34m()\u001b[0m\n",
      "\u001b[0;32mzmq/backend/cython/socket.pyx\u001b[0m in \u001b[0;36mzmq.backend.cython.socket.Socket.recv\u001b[0;34m()\u001b[0m\n",
      "\u001b[0;32mzmq/backend/cython/socket.pyx\u001b[0m in \u001b[0;36mzmq.backend.cython.socket._recv_copy\u001b[0;34m()\u001b[0m\n",
      "\u001b[0;32m~/anaconda3/envs/p37/lib/python3.7/site-packages/zmq/backend/cython/checkrc.pxd\u001b[0m in \u001b[0;36mzmq.backend.cython.checkrc._check_rc\u001b[0;34m()\u001b[0m\n",
      "\u001b[0;31mKeyboardInterrupt\u001b[0m: ",
      "\nDuring handling of the above exception, another exception occurred:\n",
      "\u001b[0;31mKeyboardInterrupt\u001b[0m                         Traceback (most recent call last)",
      "\u001b[0;32m<ipython-input-42-263240bbee7e>\u001b[0m in \u001b[0;36m<module>\u001b[0;34m\u001b[0m\n\u001b[0;32m----> 1\u001b[0;31m \u001b[0mmain\u001b[0m\u001b[0;34m(\u001b[0m\u001b[0;34m)\u001b[0m\u001b[0;34m\u001b[0m\u001b[0;34m\u001b[0m\u001b[0m\n\u001b[0m",
      "\u001b[0;32m<ipython-input-41-c1d2204b9a67>\u001b[0m in \u001b[0;36mmain\u001b[0;34m()\u001b[0m\n\u001b[1;32m      2\u001b[0m     \u001b[0mposition\u001b[0m \u001b[0;34m=\u001b[0m \u001b[0;34m[\u001b[0m\u001b[0;36m0\u001b[0m\u001b[0;34m,\u001b[0m\u001b[0;36m0\u001b[0m\u001b[0;34m]\u001b[0m\u001b[0;34m\u001b[0m\u001b[0;34m\u001b[0m\u001b[0m\n\u001b[1;32m      3\u001b[0m     \u001b[0;32mwhile\u001b[0m \u001b[0;32mTrue\u001b[0m\u001b[0;34m:\u001b[0m\u001b[0;34m\u001b[0m\u001b[0;34m\u001b[0m\u001b[0m\n\u001b[0;32m----> 4\u001b[0;31m         \u001b[0mposition\u001b[0m \u001b[0;34m=\u001b[0m \u001b[0mpossible_actions\u001b[0m\u001b[0;34m(\u001b[0m\u001b[0mposition\u001b[0m\u001b[0;34m,\u001b[0m \u001b[0;32mFalse\u001b[0m\u001b[0;34m,\u001b[0m \u001b[0;32mFalse\u001b[0m\u001b[0;34m,\u001b[0m \u001b[0;32mFalse\u001b[0m\u001b[0;34m)\u001b[0m\u001b[0;34m\u001b[0m\u001b[0;34m\u001b[0m\u001b[0m\n\u001b[0m\u001b[1;32m      5\u001b[0m         \u001b[0mprint\u001b[0m\u001b[0;34m(\u001b[0m\u001b[0;34m\"======================\\n\"\u001b[0m\u001b[0;34m)\u001b[0m\u001b[0;34m\u001b[0m\u001b[0;34m\u001b[0m\u001b[0m\n",
      "\u001b[0;32m<ipython-input-40-093fce1bfbcf>\u001b[0m in \u001b[0;36mpossible_actions\u001b[0;34m(position, sea_closed, captains_closed, armory_closed)\u001b[0m\n\u001b[1;32m    127\u001b[0m               \u001b[0mGo\u001b[0m \u001b[0minto\u001b[0m \u001b[0mthe\u001b[0m \u001b[0mtreasury\u001b[0m \u001b[0mroom\u001b[0m\u001b[0;31m\\\u001b[0m\u001b[0mn\u001b[0m\u001b[0;34m\u001b[0m\u001b[0;34m\u001b[0m\u001b[0m\n\u001b[1;32m    128\u001b[0m               Go west\\n\"\"\")\n\u001b[0;32m--> 129\u001b[0;31m     \u001b[0maction_name\u001b[0m \u001b[0;34m=\u001b[0m \u001b[0minput\u001b[0m\u001b[0;34m(\u001b[0m\u001b[0;34m\"What do you want to do?\"\u001b[0m\u001b[0;34m)\u001b[0m\u001b[0;34m.\u001b[0m\u001b[0mlower\u001b[0m\u001b[0;34m(\u001b[0m\u001b[0;34m)\u001b[0m\u001b[0;34m.\u001b[0m\u001b[0mstrip\u001b[0m\u001b[0;34m(\u001b[0m\u001b[0;34m)\u001b[0m\u001b[0;34m\u001b[0m\u001b[0;34m\u001b[0m\u001b[0m\n\u001b[0m\u001b[1;32m    130\u001b[0m     \u001b[0mprint\u001b[0m\u001b[0;34m(\u001b[0m\u001b[0;34mf\"Action chosen: {action_name}\"\u001b[0m\u001b[0;34m)\u001b[0m\u001b[0;34m\u001b[0m\u001b[0;34m\u001b[0m\u001b[0m\n\u001b[1;32m    131\u001b[0m     \u001b[0mposition\u001b[0m \u001b[0;34m=\u001b[0m \u001b[0mdo_action\u001b[0m\u001b[0;34m(\u001b[0m\u001b[0maction_name\u001b[0m\u001b[0;34m,\u001b[0m \u001b[0mposition\u001b[0m\u001b[0;34m)\u001b[0m\u001b[0;34m\u001b[0m\u001b[0;34m\u001b[0m\u001b[0m\n",
      "\u001b[0;32m~/anaconda3/envs/p37/lib/python3.7/site-packages/ipykernel/kernelbase.py\u001b[0m in \u001b[0;36mraw_input\u001b[0;34m(self, prompt)\u001b[0m\n\u001b[1;32m    857\u001b[0m             \u001b[0mself\u001b[0m\u001b[0;34m.\u001b[0m\u001b[0m_parent_ident\u001b[0m\u001b[0;34m,\u001b[0m\u001b[0;34m\u001b[0m\u001b[0;34m\u001b[0m\u001b[0m\n\u001b[1;32m    858\u001b[0m             \u001b[0mself\u001b[0m\u001b[0;34m.\u001b[0m\u001b[0m_parent_header\u001b[0m\u001b[0;34m,\u001b[0m\u001b[0;34m\u001b[0m\u001b[0;34m\u001b[0m\u001b[0m\n\u001b[0;32m--> 859\u001b[0;31m             \u001b[0mpassword\u001b[0m\u001b[0;34m=\u001b[0m\u001b[0;32mFalse\u001b[0m\u001b[0;34m,\u001b[0m\u001b[0;34m\u001b[0m\u001b[0;34m\u001b[0m\u001b[0m\n\u001b[0m\u001b[1;32m    860\u001b[0m         )\n\u001b[1;32m    861\u001b[0m \u001b[0;34m\u001b[0m\u001b[0m\n",
      "\u001b[0;32m~/anaconda3/envs/p37/lib/python3.7/site-packages/ipykernel/kernelbase.py\u001b[0m in \u001b[0;36m_input_request\u001b[0;34m(self, prompt, ident, parent, password)\u001b[0m\n\u001b[1;32m    887\u001b[0m             \u001b[0;32mexcept\u001b[0m \u001b[0mKeyboardInterrupt\u001b[0m\u001b[0;34m:\u001b[0m\u001b[0;34m\u001b[0m\u001b[0;34m\u001b[0m\u001b[0m\n\u001b[1;32m    888\u001b[0m                 \u001b[0;31m# re-raise KeyboardInterrupt, to truncate traceback\u001b[0m\u001b[0;34m\u001b[0m\u001b[0;34m\u001b[0m\u001b[0;34m\u001b[0m\u001b[0m\n\u001b[0;32m--> 889\u001b[0;31m                 \u001b[0;32mraise\u001b[0m \u001b[0mKeyboardInterrupt\u001b[0m\u001b[0;34m\u001b[0m\u001b[0;34m\u001b[0m\u001b[0m\n\u001b[0m\u001b[1;32m    890\u001b[0m             \u001b[0;32melse\u001b[0m\u001b[0;34m:\u001b[0m\u001b[0;34m\u001b[0m\u001b[0;34m\u001b[0m\u001b[0m\n\u001b[1;32m    891\u001b[0m                 \u001b[0;32mbreak\u001b[0m\u001b[0;34m\u001b[0m\u001b[0;34m\u001b[0m\u001b[0m\n",
      "\u001b[0;31mKeyboardInterrupt\u001b[0m: "
     ]
    }
   ],
   "source": [
    "main()"
   ]
  },
  {
   "cell_type": "code",
   "execution_count": 15,
   "metadata": {},
   "outputs": [],
   "source": [
    "a = (0,0)"
   ]
  },
  {
   "cell_type": "code",
   "execution_count": 16,
   "metadata": {},
   "outputs": [
    {
     "data": {
      "text/plain": [
       "0"
      ]
     },
     "execution_count": 16,
     "metadata": {},
     "output_type": "execute_result"
    }
   ],
   "source": [
    "a[0]"
   ]
  },
  {
   "cell_type": "code",
   "execution_count": 17,
   "metadata": {},
   "outputs": [
    {
     "ename": "TypeError",
     "evalue": "'tuple' object does not support item assignment",
     "output_type": "error",
     "traceback": [
      "\u001b[0;31m---------------------------------------------------------------------------\u001b[0m",
      "\u001b[0;31mTypeError\u001b[0m                                 Traceback (most recent call last)",
      "\u001b[0;32m<ipython-input-17-08ab83fd337d>\u001b[0m in \u001b[0;36m<module>\u001b[0;34m\u001b[0m\n\u001b[0;32m----> 1\u001b[0;31m \u001b[0ma\u001b[0m\u001b[0;34m[\u001b[0m\u001b[0;36m0\u001b[0m\u001b[0;34m]\u001b[0m \u001b[0;34m+=\u001b[0m\u001b[0;36m1\u001b[0m\u001b[0;34m\u001b[0m\u001b[0;34m\u001b[0m\u001b[0m\n\u001b[0m",
      "\u001b[0;31mTypeError\u001b[0m: 'tuple' object does not support item assignment"
     ]
    }
   ],
   "source": [
    "a[0] +=1"
   ]
  },
  {
   "cell_type": "code",
   "execution_count": null,
   "metadata": {},
   "outputs": [],
   "source": []
  }
 ],
 "metadata": {
  "kernelspec": {
   "display_name": "Python (p37)",
   "language": "python",
   "name": "p37"
  },
  "language_info": {
   "codemirror_mode": {
    "name": "ipython",
    "version": 3
   },
   "file_extension": ".py",
   "mimetype": "text/x-python",
   "name": "python",
   "nbconvert_exporter": "python",
   "pygments_lexer": "ipython3",
   "version": "3.7.7"
  }
 },
 "nbformat": 4,
 "nbformat_minor": 4
}
