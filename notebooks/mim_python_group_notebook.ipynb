{
 "cells": [
  {
   "cell_type": "markdown",
   "metadata": {},
   "source": [
    "# MiM Python Group Assignment\n",
    "\n",
    "## Text Game"
   ]
  },
  {
   "cell_type": "code",
   "execution_count": 64,
   "metadata": {},
   "outputs": [],
   "source": [
    "def look_rooms(room_choice_look):\n",
    "    print()\n",
    "\n",
    "    if room_choice_look == \"treasury\":  # Treasury\n",
    "        print(\"\\nYou are now looking in the secret Treasury Room. One of these objects will allow you to be the wealthiest pirate of the sea.\")\n",
    "        #TODO: display image of the room (without the ghost <- this is a surpise)\n",
    "        return\n",
    "    elif room_choice_look == \"captain\":  # Captain\n",
    "        print(\"\\nYou are now looking at a beautiful Captain Cabin. One of these objects would allow you to be the most respected captain of the sea.\")\n",
    "        #TODO: display image of the room\n",
    "        return\n",
    "    elif room_choice_look == \"sea\":  # Sea\n",
    "        print(\"\\nYou are now facing the sea, the sky is blue, the weather is nice and you are hungry. You will need to start fishing soon.\")\n",
    "        #TODO: display image of the room\n",
    "        return\n",
    "    elif room_choice_look == \"armory\":  # Armory\n",
    "        print(\"\\nYou are now looking at a fully equipped armory room. One of these objects would allow you to be the strongest pirate of the sea.\")\n",
    "        #TODO: display image of the room\n",
    "        return\n",
    "    else:\n",
    "        print(\"\\nYou should try to start from the beginning!\")\n",
    "        return"
   ]
  },
  {
   "cell_type": "code",
   "execution_count": 80,
   "metadata": {},
   "outputs": [],
   "source": [
    "def go_rooms(room_choice_go, inventory):\n",
    "    room_object = \"\"\n",
    "    \n",
    "    if room_choice_go == \"captain\":  # Captain\n",
    "        print(\"\\nYou are now in the Captain’s Cabin. Which object would allow you to be the most respected Captain? These objects are displayed in front of you, you can choose only one: \")\n",
    "        print(\"1. A Candle\")\n",
    "        print(\"2. A Feather-pen\")\n",
    "        print(\"3. An Eye-Patch\")\n",
    "        print(\"4. A Princess \")\n",
    "\n",
    "        room_object = input(\"Please enter the object you want to place in the inventory (no caps): \").lower().strip()\n",
    "        if room_object == \"a candle\":\n",
    "            print(f\"You have placed {room_object} in your inventory.\")\n",
    "            inventory.append(\"a candle\")\n",
    "        elif room_object == \"a feather-pen\":\n",
    "            print(f\"You have placed {room_object} in your inventory.\")\n",
    "            inventory.append(\"a feather-pen\")\n",
    "        elif room_object == \"an eye-patch\":\n",
    "            print(f\"You have placed {room_object} in your inventory.\")\n",
    "            inventory.append(\"an eye-patch\")\n",
    "        elif room_object == \"a princess\":\n",
    "            print(f\"You have placed {room_object} in your inventory.\")\n",
    "            inventory.append(\"a princess\")\n",
    "        else:\n",
    "            print(\"You typed the object wrong and did not take any of the objects.\")\n",
    "    elif room_choice_go == \"sea\":  # Sea\n",
    "        print(\"\\nYou are now in the Sea Room. You are hungry and you need to fish to survive. These objects are displayed in front of you, you can choose only one:\")\n",
    "        print(\"1. A fishing line\")\n",
    "        print(\"2. A net\")\n",
    "        print(\"3. A spear\")\n",
    "        print(\"4. A fish disguise\")\n",
    "\n",
    "        room_object = input(\"Please enter the object you want to place in the inventory (no caps): \").lower().strip()\n",
    "        if room_object == \"a fishing line\":\n",
    "            print(f\"You have placed {room_object} in your inventory.\")\n",
    "            inventory.append(\"a fishing line\")\n",
    "        elif room_object == \"a net\":\n",
    "            print(f\"You have placed {room_object} in your inventory.\")\n",
    "            inventory.append(\"a net\")\n",
    "        elif room_object == \"a spear\":\n",
    "            print(f\"You have placed {room_object} in your inventory.\")\n",
    "            inventory.append(\"a spear\")\n",
    "        elif room_object == \"a fish disguise\":\n",
    "            print(f\"You have placed {room_object} in your inventory.\")\n",
    "            inventory.append(\"a fish disguise\")\n",
    "        else:\n",
    "            print(\"You typed the object wrong and did not take any of the objects.\")\n",
    "            \n",
    "    elif room_choice_go == \"armory\":  # Armory\n",
    "        print(\"\\nYou are now in the Armory Room. Which object would be more valuable in a fight? These objects are displayed in front of you, you can choose only one:\")\n",
    "        print(\"1. A Sabre\")\n",
    "        print(\"2. A Gun\")\n",
    "        print(\"3. A Cannon\")\n",
    "        print(\"4. A Wand\")\n",
    "\n",
    "        room_object = input(\"Please enter the object you want to place in the inventory (no caps): \").lower().strip()\n",
    "        if room_object == \"a sabre\":\n",
    "            print(f\"You have placed {room_object} in your inventory.\")\n",
    "            inventory.append(\"a sabre\")\n",
    "        elif room_object == \"a gun\":\n",
    "            print(f\"You have placed {room_object} in your inventory.\")\n",
    "            inventory.append(\"a gun\")\n",
    "        elif room_object == \"a cannon\":\n",
    "            print(f\"You have placed {room_object} in your inventory.\")\n",
    "            inventory.append(\"a cannon\")\n",
    "        elif room_object == \"a wand\":\n",
    "            print(f\"You have placed\", room_object, \"in your inventory.\")\n",
    "            inventory.append(\"a wand\")\n",
    "        else:\n",
    "            print(\"You typed the object wrong and did not take any of the objects.\")\n",
    "    else:\n",
    "        print(\"There is something wrong here\")\n",
    "    print(\"!!! SOMETHING HAPPENS!!!!\")\n",
    "    print(\"You feel something touching your back! A ghost hand drags you through the door, it locks immediately and you now stand in front of the locked door. Shivering!\")\n",
    "    print(\"!!!!\")\n",
    "    return inventory"
   ]
  },
  {
   "cell_type": "code",
   "execution_count": 76,
   "metadata": {},
   "outputs": [],
   "source": [
    "def object_score(inventory):\n",
    "    score = 0\n",
    "    for object_inventory in inventory:\n",
    "        if object_inventory == \"a parrot\":  # treasury\n",
    "            score = score + 1\n",
    "        if object_inventory == \"gold coins\":\n",
    "            score = score + 2\n",
    "        if object_inventory == \"a treasury map\":\n",
    "            score = score + 3\n",
    "        if object_inventory == \"a barrel rum\":\n",
    "            score = score + 0\n",
    "        if object_inventory == \"a candle\":  # captain\n",
    "            score = score + 1\n",
    "        if object_inventory == \"a feather-pen\":\n",
    "            score = score + 2\n",
    "        if object_inventory == \"an eye-patch\":\n",
    "            score = score + 3\n",
    "        if object_inventory == \"a princess\":\n",
    "            score = score + 0\n",
    "        if object_inventory == \"a fishing line\":  # sea\n",
    "            score = score + 1\n",
    "        if object_inventory == \"a net\":\n",
    "            score = score + 2\n",
    "        if object_inventory == \"a spear\":\n",
    "            score = score + 3\n",
    "        if object_inventory == \"a fish disguise\":\n",
    "            score = score + 0\n",
    "        if object_inventory == \"a sabre\":  # armory\n",
    "            score = score + 1\n",
    "        if object_inventory == \"a gun\":\n",
    "            score = score + 2\n",
    "        if object_inventory == \"a cannon\":\n",
    "            score = score + 3\n",
    "        if object_inventory == \"a wand\":\n",
    "            score = score + 0\n",
    "    print(f\"Your total score based on the objects in your inventory is: {score} !!!\")"
   ]
  },
  {
   "cell_type": "code",
   "execution_count": 72,
   "metadata": {},
   "outputs": [
    {
     "name": "stdout",
     "output_type": "stream",
     "text": [
      "\n",
      "Welcome, your name is Jack Sparrow and you just found the BluePearl pirate ship.\n",
      "Your mission is to explore the ship and retrieve the most valuable objects in each room to be the most respected pirate of the Sea. \n"
     ]
    },
    {
     "ename": "KeyboardInterrupt",
     "evalue": "",
     "output_type": "error",
     "traceback": [
      "\u001b[0;31m---------------------------------------------------------------------------\u001b[0m",
      "\u001b[0;31mKeyboardInterrupt\u001b[0m                         Traceback (most recent call last)",
      "\u001b[0;32m~/anaconda3/envs/p37/lib/python3.7/site-packages/ipykernel/kernelbase.py\u001b[0m in \u001b[0;36m_input_request\u001b[0;34m(self, prompt, ident, parent, password)\u001b[0m\n\u001b[1;32m    883\u001b[0m             \u001b[0;32mtry\u001b[0m\u001b[0;34m:\u001b[0m\u001b[0;34m\u001b[0m\u001b[0;34m\u001b[0m\u001b[0m\n\u001b[0;32m--> 884\u001b[0;31m                 \u001b[0mident\u001b[0m\u001b[0;34m,\u001b[0m \u001b[0mreply\u001b[0m \u001b[0;34m=\u001b[0m \u001b[0mself\u001b[0m\u001b[0;34m.\u001b[0m\u001b[0msession\u001b[0m\u001b[0;34m.\u001b[0m\u001b[0mrecv\u001b[0m\u001b[0;34m(\u001b[0m\u001b[0mself\u001b[0m\u001b[0;34m.\u001b[0m\u001b[0mstdin_socket\u001b[0m\u001b[0;34m,\u001b[0m \u001b[0;36m0\u001b[0m\u001b[0;34m)\u001b[0m\u001b[0;34m\u001b[0m\u001b[0;34m\u001b[0m\u001b[0m\n\u001b[0m\u001b[1;32m    885\u001b[0m             \u001b[0;32mexcept\u001b[0m \u001b[0mException\u001b[0m\u001b[0;34m:\u001b[0m\u001b[0;34m\u001b[0m\u001b[0;34m\u001b[0m\u001b[0m\n",
      "\u001b[0;32m~/anaconda3/envs/p37/lib/python3.7/site-packages/jupyter_client/session.py\u001b[0m in \u001b[0;36mrecv\u001b[0;34m(self, socket, mode, content, copy)\u001b[0m\n\u001b[1;32m    812\u001b[0m         \u001b[0;32mtry\u001b[0m\u001b[0;34m:\u001b[0m\u001b[0;34m\u001b[0m\u001b[0;34m\u001b[0m\u001b[0m\n\u001b[0;32m--> 813\u001b[0;31m             \u001b[0mmsg_list\u001b[0m \u001b[0;34m=\u001b[0m \u001b[0msocket\u001b[0m\u001b[0;34m.\u001b[0m\u001b[0mrecv_multipart\u001b[0m\u001b[0;34m(\u001b[0m\u001b[0mmode\u001b[0m\u001b[0;34m,\u001b[0m \u001b[0mcopy\u001b[0m\u001b[0;34m=\u001b[0m\u001b[0mcopy\u001b[0m\u001b[0;34m)\u001b[0m\u001b[0;34m\u001b[0m\u001b[0;34m\u001b[0m\u001b[0m\n\u001b[0m\u001b[1;32m    814\u001b[0m         \u001b[0;32mexcept\u001b[0m \u001b[0mzmq\u001b[0m\u001b[0;34m.\u001b[0m\u001b[0mZMQError\u001b[0m \u001b[0;32mas\u001b[0m \u001b[0me\u001b[0m\u001b[0;34m:\u001b[0m\u001b[0;34m\u001b[0m\u001b[0;34m\u001b[0m\u001b[0m\n",
      "\u001b[0;32m~/anaconda3/envs/p37/lib/python3.7/site-packages/zmq/sugar/socket.py\u001b[0m in \u001b[0;36mrecv_multipart\u001b[0;34m(self, flags, copy, track)\u001b[0m\n\u001b[1;32m    474\u001b[0m         \"\"\"\n\u001b[0;32m--> 475\u001b[0;31m         \u001b[0mparts\u001b[0m \u001b[0;34m=\u001b[0m \u001b[0;34m[\u001b[0m\u001b[0mself\u001b[0m\u001b[0;34m.\u001b[0m\u001b[0mrecv\u001b[0m\u001b[0;34m(\u001b[0m\u001b[0mflags\u001b[0m\u001b[0;34m,\u001b[0m \u001b[0mcopy\u001b[0m\u001b[0;34m=\u001b[0m\u001b[0mcopy\u001b[0m\u001b[0;34m,\u001b[0m \u001b[0mtrack\u001b[0m\u001b[0;34m=\u001b[0m\u001b[0mtrack\u001b[0m\u001b[0;34m)\u001b[0m\u001b[0;34m]\u001b[0m\u001b[0;34m\u001b[0m\u001b[0;34m\u001b[0m\u001b[0m\n\u001b[0m\u001b[1;32m    476\u001b[0m         \u001b[0;31m# have first part already, only loop while more to receive\u001b[0m\u001b[0;34m\u001b[0m\u001b[0;34m\u001b[0m\u001b[0;34m\u001b[0m\u001b[0m\n",
      "\u001b[0;32mzmq/backend/cython/socket.pyx\u001b[0m in \u001b[0;36mzmq.backend.cython.socket.Socket.recv\u001b[0;34m()\u001b[0m\n",
      "\u001b[0;32mzmq/backend/cython/socket.pyx\u001b[0m in \u001b[0;36mzmq.backend.cython.socket.Socket.recv\u001b[0;34m()\u001b[0m\n",
      "\u001b[0;32mzmq/backend/cython/socket.pyx\u001b[0m in \u001b[0;36mzmq.backend.cython.socket._recv_copy\u001b[0;34m()\u001b[0m\n",
      "\u001b[0;32m~/anaconda3/envs/p37/lib/python3.7/site-packages/zmq/backend/cython/checkrc.pxd\u001b[0m in \u001b[0;36mzmq.backend.cython.checkrc._check_rc\u001b[0;34m()\u001b[0m\n",
      "\u001b[0;31mKeyboardInterrupt\u001b[0m: ",
      "\nDuring handling of the above exception, another exception occurred:\n",
      "\u001b[0;31mKeyboardInterrupt\u001b[0m                         Traceback (most recent call last)",
      "\u001b[0;32m<ipython-input-72-5fe9883bf118>\u001b[0m in \u001b[0;36m<module>\u001b[0;34m\u001b[0m\n\u001b[1;32m     22\u001b[0m \u001b[0;34m\u001b[0m\u001b[0m\n\u001b[1;32m     23\u001b[0m \u001b[0;34m\u001b[0m\u001b[0m\n\u001b[0;32m---> 24\u001b[0;31m \u001b[0mmain\u001b[0m\u001b[0;34m(\u001b[0m\u001b[0;34m)\u001b[0m\u001b[0;34m\u001b[0m\u001b[0;34m\u001b[0m\u001b[0m\n\u001b[0m",
      "\u001b[0;32m<ipython-input-72-5fe9883bf118>\u001b[0m in \u001b[0;36mmain\u001b[0;34m()\u001b[0m\n\u001b[1;32m      4\u001b[0m     \u001b[0mprint\u001b[0m\u001b[0;34m(\u001b[0m\u001b[0;34m\"Your mission is to explore the ship and retrieve the most valuable objects in each room to be the most respected pirate of the Sea. \"\u001b[0m\u001b[0;34m)\u001b[0m\u001b[0;34m\u001b[0m\u001b[0;34m\u001b[0m\u001b[0m\n\u001b[1;32m      5\u001b[0m \u001b[0;34m\u001b[0m\u001b[0m\n\u001b[0;32m----> 6\u001b[0;31m     \u001b[0muser_command\u001b[0m \u001b[0;34m=\u001b[0m \u001b[0minput\u001b[0m\u001b[0;34m(\u001b[0m\u001b[0;34m\"Do you want to 'Look' or 'Go'  to the next room?\"\u001b[0m\u001b[0;34m)\u001b[0m\u001b[0;34m.\u001b[0m\u001b[0mlower\u001b[0m\u001b[0;34m(\u001b[0m\u001b[0;34m)\u001b[0m\u001b[0;34m.\u001b[0m\u001b[0mstrip\u001b[0m\u001b[0;34m(\u001b[0m\u001b[0;34m)\u001b[0m\u001b[0;34m\u001b[0m\u001b[0;34m\u001b[0m\u001b[0m\n\u001b[0m\u001b[1;32m      7\u001b[0m \u001b[0;34m\u001b[0m\u001b[0m\n\u001b[1;32m      8\u001b[0m     \u001b[0minventory\u001b[0m \u001b[0;34m=\u001b[0m \u001b[0;34m[\u001b[0m\u001b[0;34m]\u001b[0m\u001b[0;34m\u001b[0m\u001b[0;34m\u001b[0m\u001b[0m\n",
      "\u001b[0;32m~/anaconda3/envs/p37/lib/python3.7/site-packages/ipykernel/kernelbase.py\u001b[0m in \u001b[0;36mraw_input\u001b[0;34m(self, prompt)\u001b[0m\n\u001b[1;32m    857\u001b[0m             \u001b[0mself\u001b[0m\u001b[0;34m.\u001b[0m\u001b[0m_parent_ident\u001b[0m\u001b[0;34m,\u001b[0m\u001b[0;34m\u001b[0m\u001b[0;34m\u001b[0m\u001b[0m\n\u001b[1;32m    858\u001b[0m             \u001b[0mself\u001b[0m\u001b[0;34m.\u001b[0m\u001b[0m_parent_header\u001b[0m\u001b[0;34m,\u001b[0m\u001b[0;34m\u001b[0m\u001b[0;34m\u001b[0m\u001b[0m\n\u001b[0;32m--> 859\u001b[0;31m             \u001b[0mpassword\u001b[0m\u001b[0;34m=\u001b[0m\u001b[0;32mFalse\u001b[0m\u001b[0;34m,\u001b[0m\u001b[0;34m\u001b[0m\u001b[0;34m\u001b[0m\u001b[0m\n\u001b[0m\u001b[1;32m    860\u001b[0m         )\n\u001b[1;32m    861\u001b[0m \u001b[0;34m\u001b[0m\u001b[0m\n",
      "\u001b[0;32m~/anaconda3/envs/p37/lib/python3.7/site-packages/ipykernel/kernelbase.py\u001b[0m in \u001b[0;36m_input_request\u001b[0;34m(self, prompt, ident, parent, password)\u001b[0m\n\u001b[1;32m    887\u001b[0m             \u001b[0;32mexcept\u001b[0m \u001b[0mKeyboardInterrupt\u001b[0m\u001b[0;34m:\u001b[0m\u001b[0;34m\u001b[0m\u001b[0;34m\u001b[0m\u001b[0m\n\u001b[1;32m    888\u001b[0m                 \u001b[0;31m# re-raise KeyboardInterrupt, to truncate traceback\u001b[0m\u001b[0;34m\u001b[0m\u001b[0;34m\u001b[0m\u001b[0;34m\u001b[0m\u001b[0m\n\u001b[0;32m--> 889\u001b[0;31m                 \u001b[0;32mraise\u001b[0m \u001b[0mKeyboardInterrupt\u001b[0m\u001b[0;34m\u001b[0m\u001b[0;34m\u001b[0m\u001b[0m\n\u001b[0m\u001b[1;32m    890\u001b[0m             \u001b[0;32melse\u001b[0m\u001b[0;34m:\u001b[0m\u001b[0;34m\u001b[0m\u001b[0;34m\u001b[0m\u001b[0m\n\u001b[1;32m    891\u001b[0m                 \u001b[0;32mbreak\u001b[0m\u001b[0;34m\u001b[0m\u001b[0;34m\u001b[0m\u001b[0m\n",
      "\u001b[0;31mKeyboardInterrupt\u001b[0m: "
     ]
    }
   ],
   "source": [
    "def main():\n",
    "    inventory = []\n",
    "    print(\"\\nWelcome, your name is Jack Sparrow and you just found the BluePearl pirate ship.\")\n",
    "    print(\"Your mission is to explore the ship and retrieve the most valuable objects in each room to be the most respected pirate of the Sea. \")\n",
    "\n",
    "    user_command = input(\"Do you want to 'Look' or 'Go'  to the next room?\").lower().strip()\n",
    "\n",
    "    inventory = []\n",
    "    \n",
    "    # TODO: while loop for enter to exit\n",
    "    if user_command == \"look\":\n",
    "        room_choice_look = input(\"Which room do you want to go to (type in the name in small caps): 'Treasury','Captain','Sea','Armory'?\").lower().strip()\n",
    "        look_rooms(room_choice_look)\n",
    "\n",
    "    elif user_command == \"go\":\n",
    "        room_choice_go = input(\"Which room do you want to go to (type in the name in small caps): 'Treasury','Captain','Sea','Armory'?\").lower().strip()\n",
    "        inventory = go_rooms(room_choice_go, inventory)\n",
    "    else:\n",
    "        print(\"We might need a more intelligent user for this game. \")\n",
    "\n",
    "    object_score(inventory)\n",
    "\n",
    "\n",
    "main()"
   ]
  },
  {
   "cell_type": "code",
   "execution_count": null,
   "metadata": {},
   "outputs": [],
   "source": []
  },
  {
   "cell_type": "code",
   "execution_count": null,
   "metadata": {},
   "outputs": [],
   "source": []
  },
  {
   "cell_type": "code",
   "execution_count": null,
   "metadata": {},
   "outputs": [],
   "source": []
  },
  {
   "cell_type": "code",
   "execution_count": 92,
   "metadata": {},
   "outputs": [],
   "source": [
    "def go_east(position):\n",
    "    position[1] += 1\n",
    "    return position\n",
    "\n",
    "def go_west(position):\n",
    "    position[1] -= 1\n",
    "    return position\n",
    "\n",
    "def go_north(position):\n",
    "    position[0] += 1\n",
    "    return position\n",
    "\n",
    "def go_south(position):\n",
    "    position[0] -= 1\n",
    "    return position\n",
    "\n",
    "def go_in_treasury_room(inventory):\n",
    "    print(\"You enter the treasury room and suddenly you stand face to face with a ghost pirate.\")\n",
    "    print(\"The door closes behind you and locks.\")\n",
    "    print('\"ARR, Aren`t you Jack Sparrow? You came on board the wrong boat to plunder! Nobody ever got my treasure!\"')\n",
    "    print(\"\\n\")\n",
    "    print(\"The ghost pirate does not hesitate long and attacks you with his sabre.\")\n",
    "    print(\"You evade the first hit.\")\n",
    "    \n",
    "    useless_fighting_items = [\"a spear\", \"a sabre\", \"a gun\", \"a cannon\"]\n",
    "    for inventar_object in inventory:\n",
    "        if inventar_object in useless_fighting_items:\n",
    "            inventar_object = inventar_object.replace(\"a \", \"\")\n",
    "            print(f\"You quickly go through your inventory and find the {inventar_object}.\")\n",
    "            print(\"You try to attack the ghost with your weapon, but to your surprise you can not hurt the ghost.\")\n",
    "            \n",
    "    print(\"You go through the whole inventory again.\")\n",
    "    ghost_is_dead = False\n",
    "    for inventar_object in inventory:\n",
    "        if inventar_object == \"a wand\":\n",
    "            print(\"You figured, that the wand you picked started to glow in blue.\")\n",
    "            print(\"You take it out of your inventory and poke the ghost...\")\n",
    "            print(\"\\n\")\n",
    "            print('\"Nooooooooo!!! You found the magic wand! The only weapon that can defeat me!\"')\n",
    "            print(\"\\n\")\n",
    "            print(\"The ghost disappears.\")\n",
    "            ghost_is_dead = True\n",
    "            \n",
    "    if ghost_is_dead == True:\n",
    "        print(\"Since the ghost disappears you now have finally access to the whole treasury room. But since you can not carry a lot, you need to decide for one specific treasure.\")\n",
    "        print(\"Choose wisely, what do you take?\")\n",
    "        print(\"1. A Parrot\")\n",
    "        print(\"2. Gold Coins\")\n",
    "        print(\"3. A Treasury Map\")\n",
    "        print(\"4. A barrel Rum\")\n",
    "\n",
    "        room_object = input(\"Please enter the object you want to place in the inventory (no caps): \").lower().strip()\n",
    "        if room_object == \"a parrot\":\n",
    "            print(f\"You have placed {room_object} in your inventory.\")\n",
    "            inventory.append(\"a parrot\")\n",
    "        elif room_object == \"gold coins\":\n",
    "            print(f\"You have placed {room_object} in your inventory.\")\n",
    "            inventory.append(\"gold coins\")\n",
    "        elif room_object == \"a treasury map\":\n",
    "            print(f\"You have placed {room_object} in your inventory.\")\n",
    "            inventory.append(\"a treasury map\")\n",
    "        elif room_object == \"a barrel rum\":\n",
    "            print(f\"You have placed {room_object} in your inventory.\")\n",
    "            inventory.append(\"a barrel rum\")\n",
    "        else:\n",
    "            print(\"You did not take any object from the treasury room, since you typed the object wrongly.\")\n",
    "        print(\"\\n\")\n",
    "        print(\"You successfully plundered the BluePearl pirate ship. You can finally leave the ship. Let's see how good you performed...\")\n",
    "    else:\n",
    "        print(\"The ghost attacks you again. But since you are focussed on your inventory, you can not evade the attack.\")\n",
    "        print(\"The attack does not miss its target.\")\n",
    "        print(\"\\n\")\n",
    "        print(\"!!!!!!!!!!!!!!!!!!!!!!!!!!!!!!!!!!!!\")\n",
    "        print(\"!!!!!!!!!!!!YOU DIED!!!!!!!!!!!!!!!!\")\n",
    "        print(\"!!!!!!!!!!!!GAME OVER!!!!!!!!!!!!!!!\")\n",
    "        print(\"\\n\")\n",
    "        print(\"\\n\")\n",
    "        print(\"Since you died, you loose all the objects in your inventory. I bet you can imagine how many points you get for your inventory...\")\n",
    "        inventory = []\n",
    "    return inventory\n",
    "\n",
    "def do_action(action_name, position, sea_closed, captains_closed, armory_closed, inventory, game_over):\n",
    "    if action_name == \"go north\":\n",
    "        position = go_north(position)\n",
    "    elif action_name == \"go south\":\n",
    "        position = go_south(position)\n",
    "    elif action_name == \"go west\":\n",
    "        position = go_west(position)\n",
    "    elif action_name == \"go east\":\n",
    "        position = go_east(position)\n",
    "        \n",
    "    # Sea room\n",
    "    elif action_name == \"go into the sea room\":\n",
    "        print(\"You enter the sea room\")\n",
    "        sea_closed = True\n",
    "        inventory = go_rooms(\"sea\", inventory)\n",
    "    elif action_name == \"look into the sea room\":\n",
    "        print(\"You look into the sea room\")\n",
    "        look_rooms(\"sea\")\n",
    "        \n",
    "    # Armory room\n",
    "    elif action_name == \"go into the armory room\":\n",
    "        print(\"You enter the armory room\")\n",
    "        armory_closed = True\n",
    "        inventory = go_rooms(\"armory\", inventory)\n",
    "    elif action_name == \"look into the armory room\":\n",
    "        print(\"You look into the armory room\")\n",
    "        look_rooms(\"armory\")\n",
    "        \n",
    "    # Captains room\n",
    "    elif action_name == \"go into the captains room\":\n",
    "        print(\"You enter the captains room\")\n",
    "        captains_closed = True\n",
    "        inventory = go_rooms(\"captain\", inventory)\n",
    "    elif action_name == \"look into the captains room\":\n",
    "        print(\"You look into the captains room\")\n",
    "        look_rooms(\"captain\")\n",
    "        \n",
    "    # Treasury room\n",
    "    elif action_name == \"go into the treasury room\":\n",
    "        print(\"You enter the treasury room\")\n",
    "        inventory = go_in_treasury_room(inventory)\n",
    "        game_over = True\n",
    "    elif action_name == \"look into the treasury room\":\n",
    "        look_rooms(\"treasury\")\n",
    "        \n",
    "    elif action_name == \"leave the ship\":\n",
    "        print(\"You are done with exploring the ship.\")\n",
    "        print(\"The game is over. Let's see how many points you get for your inventory...\")\n",
    "        game_over = True\n",
    "    else:\n",
    "        print(\"Your entry was incorrect, please choose an action again\")\n",
    "    return position, sea_closed, captains_closed, armory_closed, inventory, game_over\n",
    "\n",
    "def possible_actions(position, sea_closed, captains_closed, armory_closed, inventory, game_over):\n",
    "    if position == [0,0]:\n",
    "        print(\"\"\"Possible Actions: \n",
    "                Go east\\n\n",
    "                Leave the ship\"\"\")\n",
    "    elif position == [0,1]:\n",
    "        print(\"\"\"Possible Actions: \\n\n",
    "              Go north\\n\n",
    "              Go west\\n\n",
    "              Go south\"\"\")\n",
    "    elif position == [1,1]:\n",
    "        print(\"\"\"Possible Actions: \\n\n",
    "              Go east\\n\n",
    "              Go south\"\"\")\n",
    "    # Sea room\n",
    "    elif position == [1,2] and sea_closed == False:\n",
    "        print(\"\"\"Possible Actions: \\n\n",
    "              Look into the sea room\\n\n",
    "              Go into the sea room\\n\n",
    "              Go east\\n\n",
    "              Go west\"\"\")\n",
    "    elif position == [1,2] and sea_closed == True:\n",
    "        print(\"\"\"Possible Actions: \\n\n",
    "              Go east\\n\n",
    "              Go west\"\"\")\n",
    "    elif position == [1,3]:\n",
    "        print(\"\"\"Possible Actions: \\n\n",
    "              Go east\\n\n",
    "              Go west\\n\n",
    "              Go south\"\"\")\n",
    "    elif position == [1,4]:\n",
    "        print(\"\"\"Possible Actions: \\n\n",
    "              Go west\"\"\")\n",
    "    elif position == [0,3] and armory_closed == False:\n",
    "        print(\"\"\"Possible Actions: \\n\n",
    "              Look into the armory room\\n\n",
    "              Go into the armory room\\n\n",
    "              Go north\"\"\")\n",
    "    elif position == [0,3] and armory_closed == True:\n",
    "        print(\"\"\"Possible Actions: \\n\n",
    "              Go north\"\"\")\n",
    "    elif position == [-1,1]:\n",
    "        print(\"\"\"Possible Actions: \\n\n",
    "              Go east\\n\n",
    "              Go north\"\"\")\n",
    "    elif position == [-1,2]:\n",
    "        print(\"\"\"Possible Actions: \\n\n",
    "              Go south\\n\n",
    "              Go west\"\"\")\n",
    "    elif position == [-2,2] and captains_closed == False:\n",
    "        print(\"\"\"Possible Actions: \\n\n",
    "              Look into the captains room\\n\n",
    "              Go into the captains room\\n\n",
    "              Go north\\n\n",
    "              Go east\"\"\")\n",
    "    elif position == [-2,2] and captains_closed == True:\n",
    "        print(\"\"\"Possible Actions: \\n\n",
    "              Go north\\n\n",
    "              Go east\"\"\")\n",
    "    elif position == [-2,3]:\n",
    "        print(\"\"\"Possible Actions: \\n\n",
    "              Go west\\n\n",
    "              Go east\"\"\")\n",
    "    elif position == [-2,4]:\n",
    "        print(\"\"\"Possible Actions: \\n\n",
    "              Look into the treasury room\\n\n",
    "              Go into the treasury room\\n\n",
    "              Go west\\n\"\"\")\n",
    "    action_name = input(\"What do you want to do?\").lower().strip()\n",
    "    print(f\"Action chosen: {action_name}\")\n",
    "    position, sea_closed, captains_closed, armory_closed, inventory, game_over = do_action(action_name, position, sea_closed, captains_closed, armory_closed, inventory, game_over)\n",
    "    return position, sea_closed, captains_closed, armory_closed, inventory, game_over"
   ]
  },
  {
   "cell_type": "code",
   "execution_count": null,
   "metadata": {},
   "outputs": [],
   "source": []
  },
  {
   "cell_type": "code",
   "execution_count": 89,
   "metadata": {},
   "outputs": [],
   "source": [
    "def main():\n",
    "    position = [0,0]\n",
    "    sea_closed = False\n",
    "    captains_closed = False\n",
    "    armory_closed = False\n",
    "    \n",
    "    inventory = []\n",
    "    \n",
    "    game_over = False\n",
    "    \n",
    "    print(\"Welcome, your name is Jack Sparrow and you just found the BluePearl pirate ship.\")\n",
    "    print(\"Your mission is to explore the ship and retrieve the most valuable objects in each room to be the most respected pirate of the Sea. \")\n",
    "    print(\"\\n\")\n",
    "    print(\"\\n\")\n",
    "    \n",
    "    while not game_over:\n",
    "        position, sea_closed, captains_closed, armory_closed, inventory, game_over = possible_actions(position, sea_closed, captains_closed, armory_closed, inventory, game_over)\n",
    "        print(\"======================\\n\")\n",
    "    object_score(inventory)"
   ]
  },
  {
   "cell_type": "code",
   "execution_count": 91,
   "metadata": {},
   "outputs": [
    {
     "name": "stdout",
     "output_type": "stream",
     "text": [
      "Welcome, your name is Jack Sparrow and you just found the BluePearl pirate ship.\n",
      "Your mission is to explore the ship and retrieve the most valuable objects in each room to be the most respected pirate of the Sea. \n",
      "\n",
      "\n",
      "\n",
      "\n",
      "Possible Actions: \n",
      "                Go east\n",
      "\n",
      "                Leave the ship\n"
     ]
    },
    {
     "name": "stdin",
     "output_type": "stream",
     "text": [
      "What do you want to do? go east\n"
     ]
    },
    {
     "name": "stdout",
     "output_type": "stream",
     "text": [
      "Action chosen: go east\n",
      "======================\n",
      "\n",
      "Possible Actions: \n",
      "\n",
      "              Go north\n",
      "\n",
      "              Go west\n",
      "\n",
      "              Go south\n"
     ]
    },
    {
     "name": "stdin",
     "output_type": "stream",
     "text": [
      "What do you want to do? go north\n"
     ]
    },
    {
     "name": "stdout",
     "output_type": "stream",
     "text": [
      "Action chosen: go north\n",
      "======================\n",
      "\n",
      "Possible Actions: \n",
      "\n",
      "              Go east\n",
      "\n",
      "              Go south\n"
     ]
    },
    {
     "name": "stdin",
     "output_type": "stream",
     "text": [
      "What do you want to do? go east\n"
     ]
    },
    {
     "name": "stdout",
     "output_type": "stream",
     "text": [
      "Action chosen: go east\n",
      "======================\n",
      "\n",
      "Possible Actions: \n",
      "\n",
      "              Look into the sea room\n",
      "\n",
      "              Go into the sea room\n",
      "\n",
      "              Go east\n",
      "\n",
      "              Go west\n"
     ]
    },
    {
     "name": "stdin",
     "output_type": "stream",
     "text": [
      "What do you want to do? go east\n"
     ]
    },
    {
     "name": "stdout",
     "output_type": "stream",
     "text": [
      "Action chosen: go east\n",
      "======================\n",
      "\n",
      "Possible Actions: \n",
      "\n",
      "              Go east\n",
      "\n",
      "              Go west\n",
      "\n",
      "              Go south\n"
     ]
    },
    {
     "name": "stdin",
     "output_type": "stream",
     "text": [
      "What do you want to do? go south\n"
     ]
    },
    {
     "name": "stdout",
     "output_type": "stream",
     "text": [
      "Action chosen: go south\n",
      "======================\n",
      "\n",
      "Possible Actions: \n",
      "\n",
      "              Look into the armory room\n",
      "\n",
      "              Go into the armory room\n",
      "\n",
      "              Go north\n"
     ]
    },
    {
     "name": "stdin",
     "output_type": "stream",
     "text": [
      "What do you want to do? go into the armory room\n"
     ]
    },
    {
     "name": "stdout",
     "output_type": "stream",
     "text": [
      "Action chosen: go into the armory room\n",
      "You enter the armory room\n",
      "\n",
      "You are now in the Armory Room. Which object would be more valuable in a fight? These objects are displayed in front of you, you can choose only one:\n",
      "1. A Sabre\n",
      "2. A Gun\n",
      "3. A Cannon\n",
      "4. A Wand\n"
     ]
    },
    {
     "name": "stdin",
     "output_type": "stream",
     "text": [
      "Please enter the object you want to place in the inventory (no caps):  a wand\n"
     ]
    },
    {
     "name": "stdout",
     "output_type": "stream",
     "text": [
      "You have placed a wand in your inventory.\n",
      "!!! SOMETHING HAPPENS!!!!\n",
      "You feel something touching your back! A ghost hand drags you through the door, it locks immediately and you now stand in front of the locked door. Shivering!\n",
      "!!!!\n",
      "======================\n",
      "\n",
      "Possible Actions: \n",
      "\n",
      "              Go north\n"
     ]
    },
    {
     "name": "stdin",
     "output_type": "stream",
     "text": [
      "What do you want to do? go north\n"
     ]
    },
    {
     "name": "stdout",
     "output_type": "stream",
     "text": [
      "Action chosen: go north\n",
      "======================\n",
      "\n",
      "Possible Actions: \n",
      "\n",
      "              Go east\n",
      "\n",
      "              Go west\n",
      "\n",
      "              Go south\n"
     ]
    },
    {
     "name": "stdin",
     "output_type": "stream",
     "text": [
      "What do you want to do? go \n"
     ]
    },
    {
     "name": "stdout",
     "output_type": "stream",
     "text": [
      "Action chosen: go\n",
      "Your entry was incorrect, please choose an action again\n",
      "======================\n",
      "\n",
      "Possible Actions: \n",
      "\n",
      "              Go east\n",
      "\n",
      "              Go west\n",
      "\n",
      "              Go south\n"
     ]
    },
    {
     "name": "stdin",
     "output_type": "stream",
     "text": [
      "What do you want to do? go west\n"
     ]
    },
    {
     "name": "stdout",
     "output_type": "stream",
     "text": [
      "Action chosen: go west\n",
      "======================\n",
      "\n",
      "Possible Actions: \n",
      "\n",
      "              Look into the sea room\n",
      "\n",
      "              Go into the sea room\n",
      "\n",
      "              Go east\n",
      "\n",
      "              Go west\n"
     ]
    },
    {
     "name": "stdin",
     "output_type": "stream",
     "text": [
      "What do you want to do? go west\n"
     ]
    },
    {
     "name": "stdout",
     "output_type": "stream",
     "text": [
      "Action chosen: go west\n",
      "======================\n",
      "\n",
      "Possible Actions: \n",
      "\n",
      "              Go east\n",
      "\n",
      "              Go south\n"
     ]
    },
    {
     "name": "stdin",
     "output_type": "stream",
     "text": [
      "What do you want to do? go south\n"
     ]
    },
    {
     "name": "stdout",
     "output_type": "stream",
     "text": [
      "Action chosen: go south\n",
      "======================\n",
      "\n",
      "Possible Actions: \n",
      "\n",
      "              Go north\n",
      "\n",
      "              Go west\n",
      "\n",
      "              Go south\n"
     ]
    },
    {
     "name": "stdin",
     "output_type": "stream",
     "text": [
      "What do you want to do? go south\n"
     ]
    },
    {
     "name": "stdout",
     "output_type": "stream",
     "text": [
      "Action chosen: go south\n",
      "======================\n",
      "\n",
      "Possible Actions: \n",
      "\n",
      "              Go east\n",
      "\n",
      "              Go north\n"
     ]
    },
    {
     "name": "stdin",
     "output_type": "stream",
     "text": [
      "What do you want to do? go east\n"
     ]
    },
    {
     "name": "stdout",
     "output_type": "stream",
     "text": [
      "Action chosen: go east\n",
      "======================\n",
      "\n",
      "Possible Actions: \n",
      "\n",
      "              Go south\n",
      "\n",
      "              Go west\n"
     ]
    },
    {
     "name": "stdin",
     "output_type": "stream",
     "text": [
      "What do you want to do? go south\n"
     ]
    },
    {
     "name": "stdout",
     "output_type": "stream",
     "text": [
      "Action chosen: go south\n",
      "======================\n",
      "\n",
      "Possible Actions: \n",
      "\n",
      "              Look into the captains room\n",
      "\n",
      "              Go into the captains room\n",
      "\n",
      "              Go north\n",
      "\n",
      "              Go east\n"
     ]
    },
    {
     "name": "stdin",
     "output_type": "stream",
     "text": [
      "What do you want to do? go east\n"
     ]
    },
    {
     "name": "stdout",
     "output_type": "stream",
     "text": [
      "Action chosen: go east\n",
      "======================\n",
      "\n",
      "Possible Actions: \n",
      "\n",
      "              Go west\n",
      "\n",
      "              Go east\n"
     ]
    },
    {
     "name": "stdin",
     "output_type": "stream",
     "text": [
      "What do you want to do? go east\n"
     ]
    },
    {
     "name": "stdout",
     "output_type": "stream",
     "text": [
      "Action chosen: go east\n",
      "======================\n",
      "\n",
      "Possible Actions: \n",
      "\n",
      "              Look into the treasury room\n",
      "\n",
      "              Go into the treasury room\n",
      "\n",
      "              Go west\n",
      "\n"
     ]
    },
    {
     "name": "stdin",
     "output_type": "stream",
     "text": [
      "What do you want to do? go into the treasury room\n"
     ]
    },
    {
     "name": "stdout",
     "output_type": "stream",
     "text": [
      "Action chosen: go into the treasury room\n",
      "You enter the treasury room\n",
      "You enter the treasury room and suddenly you stand face to face with a ghost pirate.\n",
      "The door closes behind you and locks.\n",
      "\"ARR, Aren`t you Jack Sparrow? You came on board the wrong boat to plunder! Nobody ever got my treasure!\"\n",
      "\n",
      "\n",
      "The ghost pirate does not hesitate long and attacks you with his sabre.\n",
      "You evade the first hit.\n",
      "You go through the whole inventory again.\n",
      "You figured, that the wand you picked started to glow in blue.\n",
      "You take it out of your inventory and poke the ghost...\n",
      "\n",
      "\n",
      "\"Nooooooooo!!! You found the magic wand! The only weapon that can defeat me!\"\n",
      "\n",
      "\n",
      "The ghost disappears.\n",
      "Since the ghost disappears you now have finally access to the whole treasury room. But since you can not carry a lot, you need to decide for one specific treasure.\n",
      "Choose wisely, what do you take?\n",
      "1. A Parrot\n",
      "2. Gold Coins\n",
      "3. A Treasury Map\n",
      "4. A barrel Rum\n"
     ]
    },
    {
     "name": "stdin",
     "output_type": "stream",
     "text": [
      "Please enter the object you want to place in the inventory (no caps):  gold coins\n"
     ]
    },
    {
     "name": "stdout",
     "output_type": "stream",
     "text": [
      "You have placed gold coins in your inventory.\n",
      "\n",
      "\n",
      "You successfully plundered the BluePearl pirate ship. You can finally leave the ship. Let's see how good you performed...\n",
      "======================\n",
      "\n",
      "Your total score based on the objects in your inventory is: 2 !!!\n"
     ]
    }
   ],
   "source": [
    "main()"
   ]
  },
  {
   "cell_type": "code",
   "execution_count": 15,
   "metadata": {},
   "outputs": [],
   "source": [
    "a = (0,0)"
   ]
  },
  {
   "cell_type": "code",
   "execution_count": 16,
   "metadata": {},
   "outputs": [
    {
     "data": {
      "text/plain": [
       "0"
      ]
     },
     "execution_count": 16,
     "metadata": {},
     "output_type": "execute_result"
    }
   ],
   "source": [
    "a[0]"
   ]
  },
  {
   "cell_type": "code",
   "execution_count": 17,
   "metadata": {},
   "outputs": [
    {
     "ename": "TypeError",
     "evalue": "'tuple' object does not support item assignment",
     "output_type": "error",
     "traceback": [
      "\u001b[0;31m---------------------------------------------------------------------------\u001b[0m",
      "\u001b[0;31mTypeError\u001b[0m                                 Traceback (most recent call last)",
      "\u001b[0;32m<ipython-input-17-08ab83fd337d>\u001b[0m in \u001b[0;36m<module>\u001b[0;34m\u001b[0m\n\u001b[0;32m----> 1\u001b[0;31m \u001b[0ma\u001b[0m\u001b[0;34m[\u001b[0m\u001b[0;36m0\u001b[0m\u001b[0;34m]\u001b[0m \u001b[0;34m+=\u001b[0m\u001b[0;36m1\u001b[0m\u001b[0;34m\u001b[0m\u001b[0;34m\u001b[0m\u001b[0m\n\u001b[0m",
      "\u001b[0;31mTypeError\u001b[0m: 'tuple' object does not support item assignment"
     ]
    }
   ],
   "source": [
    "a[0] +=1"
   ]
  },
  {
   "cell_type": "code",
   "execution_count": 81,
   "metadata": {},
   "outputs": [],
   "source": [
    "useless_fighting_items = [\"a spear\", \"a sabre\", \"a gun\", \"a cannon\"]"
   ]
  },
  {
   "cell_type": "code",
   "execution_count": 83,
   "metadata": {},
   "outputs": [],
   "source": [
    "inv = [\"hello\", \"a spear\"]"
   ]
  },
  {
   "cell_type": "code",
   "execution_count": 86,
   "metadata": {},
   "outputs": [
    {
     "name": "stdout",
     "output_type": "stream",
     "text": [
      "a spear\n",
      "spear\n"
     ]
    }
   ],
   "source": [
    "for inventar_object in inv:\n",
    "    if inventar_object in useless_fighting_items:\n",
    "        print(inventar_object)\n",
    "        inventar_object = inventar_object.replace(\"a \", \"\")\n",
    "        print(inventar_object)"
   ]
  },
  {
   "cell_type": "code",
   "execution_count": null,
   "metadata": {},
   "outputs": [],
   "source": []
  }
 ],
 "metadata": {
  "kernelspec": {
   "display_name": "Python (p37)",
   "language": "python",
   "name": "p37"
  },
  "language_info": {
   "codemirror_mode": {
    "name": "ipython",
    "version": 3
   },
   "file_extension": ".py",
   "mimetype": "text/x-python",
   "name": "python",
   "nbconvert_exporter": "python",
   "pygments_lexer": "ipython3",
   "version": "3.7.7"
  }
 },
 "nbformat": 4,
 "nbformat_minor": 4
}
